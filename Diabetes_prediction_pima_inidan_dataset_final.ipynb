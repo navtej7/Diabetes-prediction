{
 "cells": [
  {
   "cell_type": "markdown",
   "metadata": {
    "id": "iiw1qxInTxhX"
   },
   "source": [
    "Libraries Used -\n",
    "\n",
    "Numpy - 1.19.0   \n",
    "Pandas - 1.0.5    \n",
    "Matplotlib - 3.2.2    \n",
    "Seaborn - 0.11.1   \n",
    "Scikit-Learn - 0.23.2   \n",
    "Keras - 2.4.3   \n",
    "Tensorflow - 1.0.0"
   ]
  },
  {
   "cell_type": "code",
   "execution_count": 81,
   "metadata": {
    "id": "U-VDfPa1PZWq"
   },
   "outputs": [],
   "source": [
    "import numpy as np\n",
    "import pandas as pd\n",
    "import matplotlib.pyplot as plt\n",
    "import seaborn as sns"
   ]
  },
  {
   "cell_type": "code",
   "execution_count": 82,
   "metadata": {
    "id": "A3mu7EnIPZWr"
   },
   "outputs": [],
   "source": [
    "#Loading the dataset\n",
    "data = pd.read_csv('diabetes.csv')"
   ]
  },
  {
   "cell_type": "code",
   "execution_count": 83,
   "metadata": {
    "colab": {
     "base_uri": "https://localhost:8080/",
     "height": 203
    },
    "id": "vy6vbkgIPZWr",
    "outputId": "d4cea57b-5ebf-476b-b885-99624ffb695a"
   },
   "outputs": [
    {
     "data": {
      "text/html": [
       "<div>\n",
       "<style scoped>\n",
       "    .dataframe tbody tr th:only-of-type {\n",
       "        vertical-align: middle;\n",
       "    }\n",
       "\n",
       "    .dataframe tbody tr th {\n",
       "        vertical-align: top;\n",
       "    }\n",
       "\n",
       "    .dataframe thead th {\n",
       "        text-align: right;\n",
       "    }\n",
       "</style>\n",
       "<table border=\"1\" class=\"dataframe\">\n",
       "  <thead>\n",
       "    <tr style=\"text-align: right;\">\n",
       "      <th></th>\n",
       "      <th>Pregnancies</th>\n",
       "      <th>Glucose</th>\n",
       "      <th>BloodPressure</th>\n",
       "      <th>SkinThickness</th>\n",
       "      <th>Insulin</th>\n",
       "      <th>BMI</th>\n",
       "      <th>DiabetesPedigreeFunction</th>\n",
       "      <th>Age</th>\n",
       "      <th>Outcome</th>\n",
       "    </tr>\n",
       "  </thead>\n",
       "  <tbody>\n",
       "    <tr>\n",
       "      <th>0</th>\n",
       "      <td>6</td>\n",
       "      <td>148</td>\n",
       "      <td>72</td>\n",
       "      <td>35</td>\n",
       "      <td>0</td>\n",
       "      <td>33.6</td>\n",
       "      <td>0.627</td>\n",
       "      <td>50</td>\n",
       "      <td>1</td>\n",
       "    </tr>\n",
       "    <tr>\n",
       "      <th>1</th>\n",
       "      <td>1</td>\n",
       "      <td>85</td>\n",
       "      <td>66</td>\n",
       "      <td>29</td>\n",
       "      <td>0</td>\n",
       "      <td>26.6</td>\n",
       "      <td>0.351</td>\n",
       "      <td>31</td>\n",
       "      <td>0</td>\n",
       "    </tr>\n",
       "    <tr>\n",
       "      <th>2</th>\n",
       "      <td>8</td>\n",
       "      <td>183</td>\n",
       "      <td>64</td>\n",
       "      <td>0</td>\n",
       "      <td>0</td>\n",
       "      <td>23.3</td>\n",
       "      <td>0.672</td>\n",
       "      <td>32</td>\n",
       "      <td>1</td>\n",
       "    </tr>\n",
       "    <tr>\n",
       "      <th>3</th>\n",
       "      <td>1</td>\n",
       "      <td>89</td>\n",
       "      <td>66</td>\n",
       "      <td>23</td>\n",
       "      <td>94</td>\n",
       "      <td>28.1</td>\n",
       "      <td>0.167</td>\n",
       "      <td>21</td>\n",
       "      <td>0</td>\n",
       "    </tr>\n",
       "    <tr>\n",
       "      <th>4</th>\n",
       "      <td>0</td>\n",
       "      <td>137</td>\n",
       "      <td>40</td>\n",
       "      <td>35</td>\n",
       "      <td>168</td>\n",
       "      <td>43.1</td>\n",
       "      <td>2.288</td>\n",
       "      <td>33</td>\n",
       "      <td>1</td>\n",
       "    </tr>\n",
       "  </tbody>\n",
       "</table>\n",
       "</div>"
      ],
      "text/plain": [
       "   Pregnancies  Glucose  BloodPressure  ...  DiabetesPedigreeFunction  Age  Outcome\n",
       "0            6      148             72  ...                     0.627   50        1\n",
       "1            1       85             66  ...                     0.351   31        0\n",
       "2            8      183             64  ...                     0.672   32        1\n",
       "3            1       89             66  ...                     0.167   21        0\n",
       "4            0      137             40  ...                     2.288   33        1\n",
       "\n",
       "[5 rows x 9 columns]"
      ]
     },
     "execution_count": 83,
     "metadata": {
      "tags": []
     },
     "output_type": "execute_result"
    }
   ],
   "source": [
    "data.head()"
   ]
  },
  {
   "cell_type": "code",
   "execution_count": 84,
   "metadata": {
    "colab": {
     "base_uri": "https://localhost:8080/",
     "height": 295
    },
    "id": "UqTWmYPCPZWs",
    "outputId": "2d7a801f-39ed-4360-f39a-6f3da981a11e"
   },
   "outputs": [
    {
     "data": {
      "text/html": [
       "<div>\n",
       "<style scoped>\n",
       "    .dataframe tbody tr th:only-of-type {\n",
       "        vertical-align: middle;\n",
       "    }\n",
       "\n",
       "    .dataframe tbody tr th {\n",
       "        vertical-align: top;\n",
       "    }\n",
       "\n",
       "    .dataframe thead th {\n",
       "        text-align: right;\n",
       "    }\n",
       "</style>\n",
       "<table border=\"1\" class=\"dataframe\">\n",
       "  <thead>\n",
       "    <tr style=\"text-align: right;\">\n",
       "      <th></th>\n",
       "      <th>Pregnancies</th>\n",
       "      <th>Glucose</th>\n",
       "      <th>BloodPressure</th>\n",
       "      <th>SkinThickness</th>\n",
       "      <th>Insulin</th>\n",
       "      <th>BMI</th>\n",
       "      <th>DiabetesPedigreeFunction</th>\n",
       "      <th>Age</th>\n",
       "      <th>Outcome</th>\n",
       "    </tr>\n",
       "  </thead>\n",
       "  <tbody>\n",
       "    <tr>\n",
       "      <th>count</th>\n",
       "      <td>768.000000</td>\n",
       "      <td>768.000000</td>\n",
       "      <td>768.000000</td>\n",
       "      <td>768.000000</td>\n",
       "      <td>768.000000</td>\n",
       "      <td>768.000000</td>\n",
       "      <td>768.000000</td>\n",
       "      <td>768.000000</td>\n",
       "      <td>768.000000</td>\n",
       "    </tr>\n",
       "    <tr>\n",
       "      <th>mean</th>\n",
       "      <td>3.845052</td>\n",
       "      <td>120.894531</td>\n",
       "      <td>69.105469</td>\n",
       "      <td>20.536458</td>\n",
       "      <td>79.799479</td>\n",
       "      <td>31.992578</td>\n",
       "      <td>0.471876</td>\n",
       "      <td>33.240885</td>\n",
       "      <td>0.348958</td>\n",
       "    </tr>\n",
       "    <tr>\n",
       "      <th>std</th>\n",
       "      <td>3.369578</td>\n",
       "      <td>31.972618</td>\n",
       "      <td>19.355807</td>\n",
       "      <td>15.952218</td>\n",
       "      <td>115.244002</td>\n",
       "      <td>7.884160</td>\n",
       "      <td>0.331329</td>\n",
       "      <td>11.760232</td>\n",
       "      <td>0.476951</td>\n",
       "    </tr>\n",
       "    <tr>\n",
       "      <th>min</th>\n",
       "      <td>0.000000</td>\n",
       "      <td>0.000000</td>\n",
       "      <td>0.000000</td>\n",
       "      <td>0.000000</td>\n",
       "      <td>0.000000</td>\n",
       "      <td>0.000000</td>\n",
       "      <td>0.078000</td>\n",
       "      <td>21.000000</td>\n",
       "      <td>0.000000</td>\n",
       "    </tr>\n",
       "    <tr>\n",
       "      <th>25%</th>\n",
       "      <td>1.000000</td>\n",
       "      <td>99.000000</td>\n",
       "      <td>62.000000</td>\n",
       "      <td>0.000000</td>\n",
       "      <td>0.000000</td>\n",
       "      <td>27.300000</td>\n",
       "      <td>0.243750</td>\n",
       "      <td>24.000000</td>\n",
       "      <td>0.000000</td>\n",
       "    </tr>\n",
       "    <tr>\n",
       "      <th>50%</th>\n",
       "      <td>3.000000</td>\n",
       "      <td>117.000000</td>\n",
       "      <td>72.000000</td>\n",
       "      <td>23.000000</td>\n",
       "      <td>30.500000</td>\n",
       "      <td>32.000000</td>\n",
       "      <td>0.372500</td>\n",
       "      <td>29.000000</td>\n",
       "      <td>0.000000</td>\n",
       "    </tr>\n",
       "    <tr>\n",
       "      <th>75%</th>\n",
       "      <td>6.000000</td>\n",
       "      <td>140.250000</td>\n",
       "      <td>80.000000</td>\n",
       "      <td>32.000000</td>\n",
       "      <td>127.250000</td>\n",
       "      <td>36.600000</td>\n",
       "      <td>0.626250</td>\n",
       "      <td>41.000000</td>\n",
       "      <td>1.000000</td>\n",
       "    </tr>\n",
       "    <tr>\n",
       "      <th>max</th>\n",
       "      <td>17.000000</td>\n",
       "      <td>199.000000</td>\n",
       "      <td>122.000000</td>\n",
       "      <td>99.000000</td>\n",
       "      <td>846.000000</td>\n",
       "      <td>67.100000</td>\n",
       "      <td>2.420000</td>\n",
       "      <td>81.000000</td>\n",
       "      <td>1.000000</td>\n",
       "    </tr>\n",
       "  </tbody>\n",
       "</table>\n",
       "</div>"
      ],
      "text/plain": [
       "       Pregnancies     Glucose  ...         Age     Outcome\n",
       "count   768.000000  768.000000  ...  768.000000  768.000000\n",
       "mean      3.845052  120.894531  ...   33.240885    0.348958\n",
       "std       3.369578   31.972618  ...   11.760232    0.476951\n",
       "min       0.000000    0.000000  ...   21.000000    0.000000\n",
       "25%       1.000000   99.000000  ...   24.000000    0.000000\n",
       "50%       3.000000  117.000000  ...   29.000000    0.000000\n",
       "75%       6.000000  140.250000  ...   41.000000    1.000000\n",
       "max      17.000000  199.000000  ...   81.000000    1.000000\n",
       "\n",
       "[8 rows x 9 columns]"
      ]
     },
     "execution_count": 84,
     "metadata": {
      "tags": []
     },
     "output_type": "execute_result"
    }
   ],
   "source": [
    "#describing our dataset\n",
    "data.describe()"
   ]
  },
  {
   "cell_type": "code",
   "execution_count": 85,
   "metadata": {
    "colab": {
     "base_uri": "https://localhost:8080/"
    },
    "id": "E0T3nutQPZWt",
    "outputId": "73829c58-1d14-437d-f213-3b8f2cfe3652"
   },
   "outputs": [
    {
     "name": "stdout",
     "output_type": "stream",
     "text": [
      "<class 'pandas.core.frame.DataFrame'>\n",
      "RangeIndex: 768 entries, 0 to 767\n",
      "Data columns (total 9 columns):\n",
      " #   Column                    Non-Null Count  Dtype  \n",
      "---  ------                    --------------  -----  \n",
      " 0   Pregnancies               768 non-null    int64  \n",
      " 1   Glucose                   768 non-null    int64  \n",
      " 2   BloodPressure             768 non-null    int64  \n",
      " 3   SkinThickness             768 non-null    int64  \n",
      " 4   Insulin                   768 non-null    int64  \n",
      " 5   BMI                       768 non-null    float64\n",
      " 6   DiabetesPedigreeFunction  768 non-null    float64\n",
      " 7   Age                       768 non-null    int64  \n",
      " 8   Outcome                   768 non-null    int64  \n",
      "dtypes: float64(2), int64(7)\n",
      "memory usage: 54.1 KB\n"
     ]
    }
   ],
   "source": [
    "data.info()"
   ]
  },
  {
   "cell_type": "code",
   "execution_count": 86,
   "metadata": {
    "colab": {
     "base_uri": "https://localhost:8080/"
    },
    "id": "rB1SrhQUPZWt",
    "outputId": "2ea4d8ab-f84e-4257-d9ce-e89c6ceb44d2"
   },
   "outputs": [
    {
     "data": {
      "text/plain": [
       "(768, 9)"
      ]
     },
     "execution_count": 86,
     "metadata": {
      "tags": []
     },
     "output_type": "execute_result"
    }
   ],
   "source": [
    "data.shape"
   ]
  },
  {
   "cell_type": "code",
   "execution_count": 87,
   "metadata": {
    "id": "et5nPJpLPZWu"
   },
   "outputs": [],
   "source": [
    "#There are many zero values in our dataset,i am replacing them with null.\n",
    "data[['Glucose','BloodPressure','SkinThickness','Insulin','BMI']] = data[['Glucose','BloodPressure','SkinThickness','Insulin','BMI']].replace(0,np.NaN)"
   ]
  },
  {
   "cell_type": "code",
   "execution_count": 88,
   "metadata": {
    "colab": {
     "base_uri": "https://localhost:8080/"
    },
    "id": "byf6TgUyPZWu",
    "outputId": "bd3fa54c-d3da-4aac-e09d-1761cac0893f"
   },
   "outputs": [
    {
     "data": {
      "text/plain": [
       "Pregnancies                   0\n",
       "Glucose                       5\n",
       "BloodPressure                35\n",
       "SkinThickness               227\n",
       "Insulin                     374\n",
       "BMI                          11\n",
       "DiabetesPedigreeFunction      0\n",
       "Age                           0\n",
       "Outcome                       0\n",
       "dtype: int64"
      ]
     },
     "execution_count": 88,
     "metadata": {
      "tags": []
     },
     "output_type": "execute_result"
    }
   ],
   "source": [
    "#we can see there are too many null values, so i will be replacing them by their respective median\n",
    "data.isnull().sum()"
   ]
  },
  {
   "cell_type": "code",
   "execution_count": 89,
   "metadata": {
    "id": "ZYlgC-QiPZWu"
   },
   "outputs": [],
   "source": [
    "#defining median function\n",
    "def median_target(var):   \n",
    "    temp = data[data[var].notnull()]\n",
    "    temp = temp[[var, 'Outcome']].groupby(['Outcome'])[[var]].median().reset_index()\n",
    "    return temp"
   ]
  },
  {
   "cell_type": "code",
   "execution_count": 90,
   "metadata": {
    "colab": {
     "base_uri": "https://localhost:8080/",
     "height": 110
    },
    "id": "uvBMigriPZWv",
    "outputId": "fec916d1-286e-4571-d8fe-cfda2cfeb5f0"
   },
   "outputs": [
    {
     "data": {
      "text/html": [
       "<div>\n",
       "<style scoped>\n",
       "    .dataframe tbody tr th:only-of-type {\n",
       "        vertical-align: middle;\n",
       "    }\n",
       "\n",
       "    .dataframe tbody tr th {\n",
       "        vertical-align: top;\n",
       "    }\n",
       "\n",
       "    .dataframe thead th {\n",
       "        text-align: right;\n",
       "    }\n",
       "</style>\n",
       "<table border=\"1\" class=\"dataframe\">\n",
       "  <thead>\n",
       "    <tr style=\"text-align: right;\">\n",
       "      <th></th>\n",
       "      <th>Outcome</th>\n",
       "      <th>Insulin</th>\n",
       "    </tr>\n",
       "  </thead>\n",
       "  <tbody>\n",
       "    <tr>\n",
       "      <th>0</th>\n",
       "      <td>0</td>\n",
       "      <td>102.5</td>\n",
       "    </tr>\n",
       "    <tr>\n",
       "      <th>1</th>\n",
       "      <td>1</td>\n",
       "      <td>169.5</td>\n",
       "    </tr>\n",
       "  </tbody>\n",
       "</table>\n",
       "</div>"
      ],
      "text/plain": [
       "   Outcome  Insulin\n",
       "0        0    102.5\n",
       "1        1    169.5"
      ]
     },
     "execution_count": 90,
     "metadata": {
      "tags": []
     },
     "output_type": "execute_result"
    }
   ],
   "source": [
    "median_target('Insulin')"
   ]
  },
  {
   "cell_type": "code",
   "execution_count": 91,
   "metadata": {
    "id": "cGEaJ972PZWv"
   },
   "outputs": [],
   "source": [
    "#changing null values to median depending upon outcome.\n",
    "data.loc[(data['Outcome'] == 0 ) & (data['Insulin'].isnull()), 'Insulin'] = 102.5\n",
    "data.loc[(data['Outcome'] == 1 ) & (data['Insulin'].isnull()), 'Insulin'] = 169.5"
   ]
  },
  {
   "cell_type": "code",
   "execution_count": 92,
   "metadata": {
    "colab": {
     "base_uri": "https://localhost:8080/",
     "height": 110
    },
    "id": "NojkBLV7PZWw",
    "outputId": "3441abf1-baeb-474e-b49a-3fa01e1fa182"
   },
   "outputs": [
    {
     "data": {
      "text/html": [
       "<div>\n",
       "<style scoped>\n",
       "    .dataframe tbody tr th:only-of-type {\n",
       "        vertical-align: middle;\n",
       "    }\n",
       "\n",
       "    .dataframe tbody tr th {\n",
       "        vertical-align: top;\n",
       "    }\n",
       "\n",
       "    .dataframe thead th {\n",
       "        text-align: right;\n",
       "    }\n",
       "</style>\n",
       "<table border=\"1\" class=\"dataframe\">\n",
       "  <thead>\n",
       "    <tr style=\"text-align: right;\">\n",
       "      <th></th>\n",
       "      <th>Outcome</th>\n",
       "      <th>Glucose</th>\n",
       "    </tr>\n",
       "  </thead>\n",
       "  <tbody>\n",
       "    <tr>\n",
       "      <th>0</th>\n",
       "      <td>0</td>\n",
       "      <td>107.0</td>\n",
       "    </tr>\n",
       "    <tr>\n",
       "      <th>1</th>\n",
       "      <td>1</td>\n",
       "      <td>140.0</td>\n",
       "    </tr>\n",
       "  </tbody>\n",
       "</table>\n",
       "</div>"
      ],
      "text/plain": [
       "   Outcome  Glucose\n",
       "0        0    107.0\n",
       "1        1    140.0"
      ]
     },
     "execution_count": 92,
     "metadata": {
      "tags": []
     },
     "output_type": "execute_result"
    }
   ],
   "source": [
    "median_target('Glucose')"
   ]
  },
  {
   "cell_type": "code",
   "execution_count": 93,
   "metadata": {
    "id": "NF01qeRzPZWw"
   },
   "outputs": [],
   "source": [
    "#changing null values to median depending upon outcome.\n",
    "data.loc[(data['Outcome'] == 0 ) & (data['Glucose'].isnull()), 'Glucose'] = 107\n",
    "data.loc[(data['Outcome'] == 1 ) & (data['Glucose'].isnull()), 'Glucose'] = 140"
   ]
  },
  {
   "cell_type": "code",
   "execution_count": 94,
   "metadata": {
    "colab": {
     "base_uri": "https://localhost:8080/",
     "height": 110
    },
    "id": "xOM4XuBvPZWw",
    "outputId": "35d55b7b-dbdf-497e-c71c-5ee8ca9b3ec5"
   },
   "outputs": [
    {
     "data": {
      "text/html": [
       "<div>\n",
       "<style scoped>\n",
       "    .dataframe tbody tr th:only-of-type {\n",
       "        vertical-align: middle;\n",
       "    }\n",
       "\n",
       "    .dataframe tbody tr th {\n",
       "        vertical-align: top;\n",
       "    }\n",
       "\n",
       "    .dataframe thead th {\n",
       "        text-align: right;\n",
       "    }\n",
       "</style>\n",
       "<table border=\"1\" class=\"dataframe\">\n",
       "  <thead>\n",
       "    <tr style=\"text-align: right;\">\n",
       "      <th></th>\n",
       "      <th>Outcome</th>\n",
       "      <th>SkinThickness</th>\n",
       "    </tr>\n",
       "  </thead>\n",
       "  <tbody>\n",
       "    <tr>\n",
       "      <th>0</th>\n",
       "      <td>0</td>\n",
       "      <td>27.0</td>\n",
       "    </tr>\n",
       "    <tr>\n",
       "      <th>1</th>\n",
       "      <td>1</td>\n",
       "      <td>32.0</td>\n",
       "    </tr>\n",
       "  </tbody>\n",
       "</table>\n",
       "</div>"
      ],
      "text/plain": [
       "   Outcome  SkinThickness\n",
       "0        0           27.0\n",
       "1        1           32.0"
      ]
     },
     "execution_count": 94,
     "metadata": {
      "tags": []
     },
     "output_type": "execute_result"
    }
   ],
   "source": [
    "median_target('SkinThickness')"
   ]
  },
  {
   "cell_type": "code",
   "execution_count": 95,
   "metadata": {
    "id": "Z9ep8J4TPZWw"
   },
   "outputs": [],
   "source": [
    "#changing null values to median depending upon outcome.\n",
    "data.loc[(data['Outcome'] == 0 ) & (data['SkinThickness'].isnull()), 'SkinThickness'] = 27\n",
    "data.loc[(data['Outcome'] == 1 ) & (data['SkinThickness'].isnull()), 'SkinThickness'] = 32"
   ]
  },
  {
   "cell_type": "code",
   "execution_count": 96,
   "metadata": {
    "colab": {
     "base_uri": "https://localhost:8080/",
     "height": 110
    },
    "id": "HksbIJu8PZWx",
    "outputId": "e357c375-1f58-43ee-d3e1-98c49f90e8e8"
   },
   "outputs": [
    {
     "data": {
      "text/html": [
       "<div>\n",
       "<style scoped>\n",
       "    .dataframe tbody tr th:only-of-type {\n",
       "        vertical-align: middle;\n",
       "    }\n",
       "\n",
       "    .dataframe tbody tr th {\n",
       "        vertical-align: top;\n",
       "    }\n",
       "\n",
       "    .dataframe thead th {\n",
       "        text-align: right;\n",
       "    }\n",
       "</style>\n",
       "<table border=\"1\" class=\"dataframe\">\n",
       "  <thead>\n",
       "    <tr style=\"text-align: right;\">\n",
       "      <th></th>\n",
       "      <th>Outcome</th>\n",
       "      <th>BloodPressure</th>\n",
       "    </tr>\n",
       "  </thead>\n",
       "  <tbody>\n",
       "    <tr>\n",
       "      <th>0</th>\n",
       "      <td>0</td>\n",
       "      <td>70.0</td>\n",
       "    </tr>\n",
       "    <tr>\n",
       "      <th>1</th>\n",
       "      <td>1</td>\n",
       "      <td>74.5</td>\n",
       "    </tr>\n",
       "  </tbody>\n",
       "</table>\n",
       "</div>"
      ],
      "text/plain": [
       "   Outcome  BloodPressure\n",
       "0        0           70.0\n",
       "1        1           74.5"
      ]
     },
     "execution_count": 96,
     "metadata": {
      "tags": []
     },
     "output_type": "execute_result"
    }
   ],
   "source": [
    "median_target('BloodPressure')"
   ]
  },
  {
   "cell_type": "code",
   "execution_count": 97,
   "metadata": {
    "id": "wlix8GS1PZWx"
   },
   "outputs": [],
   "source": [
    "#changing null values to median depending upon outcome.\n",
    "data.loc[(data['Outcome'] == 0 ) & (data['BloodPressure'].isnull()), 'BloodPressure'] = 70\n",
    "data.loc[(data['Outcome'] == 1 ) & (data['BloodPressure'].isnull()), 'BloodPressure'] = 74.5"
   ]
  },
  {
   "cell_type": "code",
   "execution_count": 98,
   "metadata": {
    "colab": {
     "base_uri": "https://localhost:8080/",
     "height": 110
    },
    "id": "djlPEAflPZWx",
    "outputId": "3a782257-c460-4943-bc45-72beb09f4c7a"
   },
   "outputs": [
    {
     "data": {
      "text/html": [
       "<div>\n",
       "<style scoped>\n",
       "    .dataframe tbody tr th:only-of-type {\n",
       "        vertical-align: middle;\n",
       "    }\n",
       "\n",
       "    .dataframe tbody tr th {\n",
       "        vertical-align: top;\n",
       "    }\n",
       "\n",
       "    .dataframe thead th {\n",
       "        text-align: right;\n",
       "    }\n",
       "</style>\n",
       "<table border=\"1\" class=\"dataframe\">\n",
       "  <thead>\n",
       "    <tr style=\"text-align: right;\">\n",
       "      <th></th>\n",
       "      <th>Outcome</th>\n",
       "      <th>BMI</th>\n",
       "    </tr>\n",
       "  </thead>\n",
       "  <tbody>\n",
       "    <tr>\n",
       "      <th>0</th>\n",
       "      <td>0</td>\n",
       "      <td>30.1</td>\n",
       "    </tr>\n",
       "    <tr>\n",
       "      <th>1</th>\n",
       "      <td>1</td>\n",
       "      <td>34.3</td>\n",
       "    </tr>\n",
       "  </tbody>\n",
       "</table>\n",
       "</div>"
      ],
      "text/plain": [
       "   Outcome   BMI\n",
       "0        0  30.1\n",
       "1        1  34.3"
      ]
     },
     "execution_count": 98,
     "metadata": {
      "tags": []
     },
     "output_type": "execute_result"
    }
   ],
   "source": [
    "median_target('BMI')"
   ]
  },
  {
   "cell_type": "code",
   "execution_count": 99,
   "metadata": {
    "id": "ZOAoMdhxPZWx"
   },
   "outputs": [],
   "source": [
    "#changing null values to median depending upon outcome.\n",
    "data.loc[(data['Outcome'] == 0 ) & (data['BMI'].isnull()), 'BMI'] = 30.1\n",
    "data.loc[(data['Outcome'] == 1 ) & (data['BMI'].isnull()), 'BMI'] = 34.3"
   ]
  },
  {
   "cell_type": "code",
   "execution_count": 100,
   "metadata": {
    "colab": {
     "base_uri": "https://localhost:8080/",
     "height": 326
    },
    "id": "I4AzkEdqPZWy",
    "outputId": "1c18d347-0c94-411f-ecc2-956f7f756c8f"
   },
   "outputs": [
    {
     "data": {
      "text/html": [
       "<div>\n",
       "<style scoped>\n",
       "    .dataframe tbody tr th:only-of-type {\n",
       "        vertical-align: middle;\n",
       "    }\n",
       "\n",
       "    .dataframe tbody tr th {\n",
       "        vertical-align: top;\n",
       "    }\n",
       "\n",
       "    .dataframe thead th {\n",
       "        text-align: right;\n",
       "    }\n",
       "</style>\n",
       "<table border=\"1\" class=\"dataframe\">\n",
       "  <thead>\n",
       "    <tr style=\"text-align: right;\">\n",
       "      <th></th>\n",
       "      <th>Pregnancies</th>\n",
       "      <th>Glucose</th>\n",
       "      <th>BloodPressure</th>\n",
       "      <th>SkinThickness</th>\n",
       "      <th>Insulin</th>\n",
       "      <th>BMI</th>\n",
       "      <th>DiabetesPedigreeFunction</th>\n",
       "      <th>Age</th>\n",
       "      <th>Outcome</th>\n",
       "    </tr>\n",
       "  </thead>\n",
       "  <tbody>\n",
       "    <tr>\n",
       "      <th>Pregnancies</th>\n",
       "      <td>1.000000</td>\n",
       "      <td>0.130155</td>\n",
       "      <td>0.209151</td>\n",
       "      <td>0.089028</td>\n",
       "      <td>0.058767</td>\n",
       "      <td>0.023890</td>\n",
       "      <td>-0.033523</td>\n",
       "      <td>0.544341</td>\n",
       "      <td>0.221898</td>\n",
       "    </tr>\n",
       "    <tr>\n",
       "      <th>Glucose</th>\n",
       "      <td>0.130155</td>\n",
       "      <td>1.000000</td>\n",
       "      <td>0.225141</td>\n",
       "      <td>0.229289</td>\n",
       "      <td>0.490015</td>\n",
       "      <td>0.236171</td>\n",
       "      <td>0.138353</td>\n",
       "      <td>0.268910</td>\n",
       "      <td>0.495990</td>\n",
       "    </tr>\n",
       "    <tr>\n",
       "      <th>BloodPressure</th>\n",
       "      <td>0.209151</td>\n",
       "      <td>0.225141</td>\n",
       "      <td>1.000000</td>\n",
       "      <td>0.199349</td>\n",
       "      <td>0.070128</td>\n",
       "      <td>0.286399</td>\n",
       "      <td>-0.001443</td>\n",
       "      <td>0.325135</td>\n",
       "      <td>0.174469</td>\n",
       "    </tr>\n",
       "    <tr>\n",
       "      <th>SkinThickness</th>\n",
       "      <td>0.089028</td>\n",
       "      <td>0.229289</td>\n",
       "      <td>0.199349</td>\n",
       "      <td>1.000000</td>\n",
       "      <td>0.200129</td>\n",
       "      <td>0.566086</td>\n",
       "      <td>0.106280</td>\n",
       "      <td>0.129537</td>\n",
       "      <td>0.295138</td>\n",
       "    </tr>\n",
       "    <tr>\n",
       "      <th>Insulin</th>\n",
       "      <td>0.058767</td>\n",
       "      <td>0.490015</td>\n",
       "      <td>0.070128</td>\n",
       "      <td>0.200129</td>\n",
       "      <td>1.000000</td>\n",
       "      <td>0.238443</td>\n",
       "      <td>0.146878</td>\n",
       "      <td>0.123629</td>\n",
       "      <td>0.377081</td>\n",
       "    </tr>\n",
       "    <tr>\n",
       "      <th>BMI</th>\n",
       "      <td>0.023890</td>\n",
       "      <td>0.236171</td>\n",
       "      <td>0.286399</td>\n",
       "      <td>0.566086</td>\n",
       "      <td>0.238443</td>\n",
       "      <td>1.000000</td>\n",
       "      <td>0.152771</td>\n",
       "      <td>0.027849</td>\n",
       "      <td>0.315577</td>\n",
       "    </tr>\n",
       "    <tr>\n",
       "      <th>DiabetesPedigreeFunction</th>\n",
       "      <td>-0.033523</td>\n",
       "      <td>0.138353</td>\n",
       "      <td>-0.001443</td>\n",
       "      <td>0.106280</td>\n",
       "      <td>0.146878</td>\n",
       "      <td>0.152771</td>\n",
       "      <td>1.000000</td>\n",
       "      <td>0.033561</td>\n",
       "      <td>0.173844</td>\n",
       "    </tr>\n",
       "    <tr>\n",
       "      <th>Age</th>\n",
       "      <td>0.544341</td>\n",
       "      <td>0.268910</td>\n",
       "      <td>0.325135</td>\n",
       "      <td>0.129537</td>\n",
       "      <td>0.123629</td>\n",
       "      <td>0.027849</td>\n",
       "      <td>0.033561</td>\n",
       "      <td>1.000000</td>\n",
       "      <td>0.238356</td>\n",
       "    </tr>\n",
       "    <tr>\n",
       "      <th>Outcome</th>\n",
       "      <td>0.221898</td>\n",
       "      <td>0.495990</td>\n",
       "      <td>0.174469</td>\n",
       "      <td>0.295138</td>\n",
       "      <td>0.377081</td>\n",
       "      <td>0.315577</td>\n",
       "      <td>0.173844</td>\n",
       "      <td>0.238356</td>\n",
       "      <td>1.000000</td>\n",
       "    </tr>\n",
       "  </tbody>\n",
       "</table>\n",
       "</div>"
      ],
      "text/plain": [
       "                          Pregnancies   Glucose  ...       Age   Outcome\n",
       "Pregnancies                  1.000000  0.130155  ...  0.544341  0.221898\n",
       "Glucose                      0.130155  1.000000  ...  0.268910  0.495990\n",
       "BloodPressure                0.209151  0.225141  ...  0.325135  0.174469\n",
       "SkinThickness                0.089028  0.229289  ...  0.129537  0.295138\n",
       "Insulin                      0.058767  0.490015  ...  0.123629  0.377081\n",
       "BMI                          0.023890  0.236171  ...  0.027849  0.315577\n",
       "DiabetesPedigreeFunction    -0.033523  0.138353  ...  0.033561  0.173844\n",
       "Age                          0.544341  0.268910  ...  1.000000  0.238356\n",
       "Outcome                      0.221898  0.495990  ...  0.238356  1.000000\n",
       "\n",
       "[9 rows x 9 columns]"
      ]
     },
     "execution_count": 100,
     "metadata": {
      "tags": []
     },
     "output_type": "execute_result"
    }
   ],
   "source": [
    "data.corr()"
   ]
  },
  {
   "cell_type": "code",
   "execution_count": 101,
   "metadata": {
    "colab": {
     "base_uri": "https://localhost:8080/",
     "height": 733
    },
    "id": "K1-ksed-PZWy",
    "outputId": "aa2982d3-debc-4805-acf1-694a083f4cb9"
   },
   "outputs": [
    {
     "data": {
      "text/plain": [
       "<matplotlib.axes._subplots.AxesSubplot at 0x7f1e23490f10>"
      ]
     },
     "execution_count": 101,
     "metadata": {
      "tags": []
     },
     "output_type": "execute_result"
    },
    {
     "data": {
      "image/png": "[encoded data removed]",
      "text/plain": [
       "<Figure size 864x720 with 2 Axes>"
      ]
     },
     "metadata": {
      "tags": []
     },
     "output_type": "display_data"
    }
   ],
   "source": [
    "#displaying correlation matrix\n",
    "plt.figure(figsize = (12,10))\n",
    "sns.heatmap(data.corr(), annot =True)"
   ]
  },
  {
   "cell_type": "code",
   "execution_count": 102,
   "metadata": {
    "colab": {
     "base_uri": "https://localhost:8080/",
     "height": 623
    },
    "id": "WqT2b5QBPZWy",
    "outputId": "94962f33-050e-4dd7-88e6-ef3a24e7b12e"
   },
   "outputs": [
    {
     "data": {
      "text/plain": [
       "<matplotlib.axes._subplots.AxesSubplot at 0x7f1e23452890>"
      ]
     },
     "execution_count": 102,
     "metadata": {
      "tags": []
     },
     "output_type": "execute_result"
    },
    {
     "data": {
      "image/png": "[encoded data removed]",
      "text/plain": [
       "<Figure size 1008x720 with 6 Axes>"
      ]
     },
     "metadata": {
      "tags": []
     },
     "output_type": "display_data"
    }
   ],
   "source": [
    "#displaying range of data\n",
    "plt.figure(figsize=(14,10))\n",
    "sns.set_style(style='whitegrid')\n",
    "plt.subplot(2,3,1)\n",
    "sns.boxplot(x='Glucose',data=data)\n",
    "plt.subplot(2,3,2)\n",
    "sns.boxplot(x='BloodPressure',data=data)\n",
    "plt.subplot(2,3,3)\n",
    "sns.boxplot(x='Insulin',data=data)\n",
    "plt.subplot(2,3,4)\n",
    "sns.boxplot(x='BMI',data=data)\n",
    "plt.subplot(2,3,5)\n",
    "sns.boxplot(x='Age',data=data)\n",
    "plt.subplot(2,3,6)\n",
    "sns.boxplot(x='SkinThickness',data=data)"
   ]
  },
  {
   "cell_type": "code",
   "execution_count": 103,
   "metadata": {
    "id": "9p5lTwKGPZWz"
   },
   "outputs": [],
   "source": [
    "#train_test_splitting of the dataset\n",
    "x = data.drop(columns = 'Outcome')\n",
    "# Getting Predicting Value\n",
    "y = data['Outcome']\n",
    "from sklearn.model_selection import train_test_split \n",
    "x_train,x_test,y_train,y_test = train_test_split(x,y,test_size=0.2,random_state=32)"
   ]
  },
  {
   "cell_type": "code",
   "execution_count": 104,
   "metadata": {
    "colab": {
     "base_uri": "https://localhost:8080/"
    },
    "id": "JucwFZCLPZWz",
    "outputId": "b6f9d020-4e46-4af3-ea4f-9221a5ede632"
   },
   "outputs": [
    {
     "name": "stderr",
     "output_type": "stream",
     "text": [
      "/usr/local/lib/python3.7/dist-packages/sklearn/linear_model/_logistic.py:940: ConvergenceWarning: lbfgs failed to converge (status=1):\n",
      "STOP: TOTAL NO. of ITERATIONS REACHED LIMIT.\n",
      "\n",
      "Increase the number of iterations (max_iter) or scale the data as shown in:\n",
      "    https://scikit-learn.org/stable/modules/preprocessing.html\n",
      "Please also refer to the documentation for alternative solver options:\n",
      "    https://scikit-learn.org/stable/modules/linear_model.html#logistic-regression\n",
      "  extra_warning_msg=_LOGISTIC_SOLVER_CONVERGENCE_MSG)\n"
     ]
    },
    {
     "data": {
      "text/plain": [
       "LogisticRegression(C=1.0, class_weight=None, dual=False, fit_intercept=True,\n",
       "                   intercept_scaling=1, l1_ratio=None, max_iter=100,\n",
       "                   multi_class='auto', n_jobs=None, penalty='l2',\n",
       "                   random_state=None, solver='lbfgs', tol=0.0001, verbose=0,\n",
       "                   warm_start=False)"
      ]
     },
     "execution_count": 104,
     "metadata": {
      "tags": []
     },
     "output_type": "execute_result"
    }
   ],
   "source": [
    "#training model using Logistic Regression\n",
    "from sklearn.linear_model import LogisticRegression\n",
    "reg = LogisticRegression()\n",
    "reg.fit(x_train,y_train)                         "
   ]
  },
  {
   "cell_type": "code",
   "execution_count": 105,
   "metadata": {
    "colab": {
     "base_uri": "https://localhost:8080/"
    },
    "id": "XRkraN73PZWz",
    "outputId": "231196aa-4d46-4bc0-fd3a-1c667334e15d"
   },
   "outputs": [
    {
     "name": "stdout",
     "output_type": "stream",
     "text": [
      "Classification Report is:\n",
      "               precision    recall  f1-score   support\n",
      "\n",
      "           0       0.87      0.86      0.86        99\n",
      "           1       0.75      0.76      0.76        55\n",
      "\n",
      "    accuracy                           0.82       154\n",
      "   macro avg       0.81      0.81      0.81       154\n",
      "weighted avg       0.83      0.82      0.83       154\n",
      "\n",
      "Confusion Matrix:\n",
      " [[85 14]\n",
      " [13 42]]\n",
      "Training Score:\n",
      " 76.2214983713355\n"
     ]
    }
   ],
   "source": [
    "y_pred=reg.predict(x_test)\n",
    "from sklearn.metrics import accuracy_score,classification_report,confusion_matrix\n",
    "print(\"Classification Report is:\\n\",classification_report(y_test,y_pred))\n",
    "print(\"Confusion Matrix:\\n\",confusion_matrix(y_test,y_pred))\n",
    "print(\"Training Score:\\n\",reg.score(x_train,y_train)*100)"
   ]
  },
  {
   "cell_type": "code",
   "execution_count": 106,
   "metadata": {
    "colab": {
     "base_uri": "https://localhost:8080/"
    },
    "id": "fr1vW4vCPZWz",
    "outputId": "d97c0fe6-40a9-4db9-c358-c658f971223b"
   },
   "outputs": [
    {
     "name": "stdout",
     "output_type": "stream",
     "text": [
      "82.46753246753246\n"
     ]
    }
   ],
   "source": [
    "#printing accuracy score\n",
    "print(accuracy_score(y_test,y_pred)*100)"
   ]
  },
  {
   "cell_type": "code",
   "execution_count": 107,
   "metadata": {
    "colab": {
     "base_uri": "https://localhost:8080/"
    },
    "id": "aGlppMWLPZW0",
    "outputId": "57d9275f-46b6-42fb-e1ae-d55d8725390b"
   },
   "outputs": [
    {
     "data": {
      "text/plain": [
       "KNeighborsClassifier(algorithm='auto', leaf_size=30, metric='minkowski',\n",
       "                     metric_params=None, n_jobs=None, n_neighbors=5, p=2,\n",
       "                     weights='uniform')"
      ]
     },
     "execution_count": 107,
     "metadata": {
      "tags": []
     },
     "output_type": "execute_result"
    }
   ],
   "source": [
    "#training model using KNN\n",
    "from sklearn.neighbors import KNeighborsClassifier\n",
    "knn=KNeighborsClassifier(n_neighbors=5)\n",
    "knn.fit(x_train,y_train)"
   ]
  },
  {
   "cell_type": "code",
   "execution_count": 108,
   "metadata": {
    "colab": {
     "base_uri": "https://localhost:8080/"
    },
    "id": "6UkdeIzlPZW0",
    "outputId": "0fc73418-d810-4a50-c96c-d09cafe8aec9"
   },
   "outputs": [
    {
     "name": "stdout",
     "output_type": "stream",
     "text": [
      "Classification Report is:\n",
      "               precision    recall  f1-score   support\n",
      "\n",
      "           0       0.92      0.89      0.90        99\n",
      "           1       0.81      0.85      0.83        55\n",
      "\n",
      "    accuracy                           0.88       154\n",
      "   macro avg       0.86      0.87      0.87       154\n",
      "weighted avg       0.88      0.88      0.88       154\n",
      "\n",
      "Confusion Matrix:\n",
      " [[88 11]\n",
      " [ 8 47]]\n",
      "Training Score:\n",
      " 88.76221498371335\n"
     ]
    }
   ],
   "source": [
    "y_pred=knn.predict(x_test)\n",
    "from sklearn.metrics import accuracy_score,classification_report,confusion_matrix\n",
    "print(\"Classification Report is:\\n\",classification_report(y_test,y_pred))\n",
    "print(\"Confusion Matrix:\\n\",confusion_matrix(y_test,y_pred))\n",
    "print(\"Training Score:\\n\",knn.score(x_train,y_train)*100)"
   ]
  },
  {
   "cell_type": "code",
   "execution_count": 109,
   "metadata": {
    "colab": {
     "base_uri": "https://localhost:8080/"
    },
    "id": "w_rcK0g3PZW0",
    "outputId": "9d6ff3eb-0a94-4b47-c1e9-50c9f6851813"
   },
   "outputs": [
    {
     "name": "stdout",
     "output_type": "stream",
     "text": [
      "87.66233766233766\n"
     ]
    }
   ],
   "source": [
    "#printing accuracy score\n",
    "print(accuracy_score(y_test,y_pred)*100)"
   ]
  },
  {
   "cell_type": "code",
   "execution_count": 110,
   "metadata": {
    "colab": {
     "base_uri": "https://localhost:8080/"
    },
    "id": "omU4IZNnPZW0",
    "outputId": "01180980-f244-4385-f0d5-88b71a52c3d6"
   },
   "outputs": [
    {
     "data": {
      "text/plain": [
       "SVC(C=1.0, break_ties=False, cache_size=200, class_weight=None, coef0=0.0,\n",
       "    decision_function_shape='ovr', degree=3, gamma='scale', kernel='rbf',\n",
       "    max_iter=-1, probability=False, random_state=None, shrinking=True,\n",
       "    tol=0.001, verbose=False)"
      ]
     },
     "execution_count": 110,
     "metadata": {
      "tags": []
     },
     "output_type": "execute_result"
    }
   ],
   "source": [
    "#training model using SVM\n",
    "from sklearn.svm import SVC\n",
    "svc = SVC()\n",
    "svc.fit(x_train, y_train)"
   ]
  },
  {
   "cell_type": "code",
   "execution_count": 111,
   "metadata": {
    "colab": {
     "base_uri": "https://localhost:8080/"
    },
    "id": "dh0K9gU7PZW1",
    "outputId": "6902d145-8d27-4f66-96ac-adbe1524167e"
   },
   "outputs": [
    {
     "name": "stdout",
     "output_type": "stream",
     "text": [
      "Classification Report is:\n",
      "               precision    recall  f1-score   support\n",
      "\n",
      "           0       0.94      0.84      0.89        99\n",
      "           1       0.76      0.91      0.83        55\n",
      "\n",
      "    accuracy                           0.86       154\n",
      "   macro avg       0.85      0.87      0.86       154\n",
      "weighted avg       0.88      0.86      0.87       154\n",
      "\n",
      "Confusion Matrix:\n",
      " [[83 16]\n",
      " [ 5 50]]\n",
      "Training Score:\n",
      " 85.01628664495115\n"
     ]
    }
   ],
   "source": [
    "y_pred=svc.predict(x_test)\n",
    "from sklearn.metrics import accuracy_score,classification_report,confusion_matrix\n",
    "print(\"Classification Report is:\\n\",classification_report(y_test,y_pred))\n",
    "print(\"Confusion Matrix:\\n\",confusion_matrix(y_test,y_pred))\n",
    "print(\"Training Score:\\n\",svc.score(x_train,y_train)*100)"
   ]
  },
  {
   "cell_type": "code",
   "execution_count": 112,
   "metadata": {
    "colab": {
     "base_uri": "https://localhost:8080/"
    },
    "id": "4wPi_51gPZW1",
    "outputId": "a3bb6222-60f7-481f-aec0-8d6c8964f18c"
   },
   "outputs": [
    {
     "name": "stdout",
     "output_type": "stream",
     "text": [
      "86.36363636363636\n"
     ]
    }
   ],
   "source": [
    "#printing accuracy score\n",
    "print(accuracy_score(y_test,y_pred)*100)"
   ]
  },
  {
   "cell_type": "code",
   "execution_count": 113,
   "metadata": {
    "colab": {
     "base_uri": "https://localhost:8080/"
    },
    "id": "16K1PqYwPZW1",
    "outputId": "95b966c9-97bc-4968-f07e-8ee83964b369"
   },
   "outputs": [
    {
     "data": {
      "text/plain": [
       "GaussianNB(priors=None, var_smoothing=1e-09)"
      ]
     },
     "execution_count": 113,
     "metadata": {
      "tags": []
     },
     "output_type": "execute_result"
    }
   ],
   "source": [
    "#training model using Naive bayes classifier\n",
    "from sklearn.naive_bayes import GaussianNB\n",
    "gnb = GaussianNB()\n",
    "gnb.fit(x_train,y_train)"
   ]
  },
  {
   "cell_type": "code",
   "execution_count": 114,
   "metadata": {
    "colab": {
     "base_uri": "https://localhost:8080/"
    },
    "id": "lS2LI5GQPZW2",
    "outputId": "33f32c24-f103-4898-e6c7-9bb459e91d15"
   },
   "outputs": [
    {
     "name": "stdout",
     "output_type": "stream",
     "text": [
      "Classification Report is:\n",
      "               precision    recall  f1-score   support\n",
      "\n",
      "           0       0.87      0.82      0.84        99\n",
      "           1       0.70      0.78      0.74        55\n",
      "\n",
      "    accuracy                           0.81       154\n",
      "   macro avg       0.79      0.80      0.79       154\n",
      "weighted avg       0.81      0.81      0.81       154\n",
      "\n",
      "Confusion Matrix:\n",
      " [[81 18]\n",
      " [12 43]]\n",
      "Training Score:\n",
      " 77.36156351791531\n"
     ]
    }
   ],
   "source": [
    "y_pred=gnb.predict(x_test)\n",
    "from sklearn.metrics import accuracy_score,classification_report,confusion_matrix\n",
    "print(\"Classification Report is:\\n\",classification_report(y_test,y_pred))\n",
    "print(\"Confusion Matrix:\\n\",confusion_matrix(y_test,y_pred))\n",
    "print(\"Training Score:\\n\",gnb.score(x_train,y_train)*100)"
   ]
  },
  {
   "cell_type": "code",
   "execution_count": 115,
   "metadata": {
    "colab": {
     "base_uri": "https://localhost:8080/"
    },
    "id": "rNcJ8fxPPZW2",
    "outputId": "a0150da2-1714-4f9c-9385-15c940a4bdcb"
   },
   "outputs": [
    {
     "name": "stdout",
     "output_type": "stream",
     "text": [
      "80.51948051948052\n"
     ]
    }
   ],
   "source": [
    "#printing accuracy score\n",
    "print(accuracy_score(y_test,y_pred)*100)"
   ]
  },
  {
   "cell_type": "code",
   "execution_count": 116,
   "metadata": {
    "colab": {
     "base_uri": "https://localhost:8080/"
    },
    "id": "kcj_kIeePZW2",
    "outputId": "7155c156-5122-429a-82f9-c291f6263ae7"
   },
   "outputs": [
    {
     "data": {
      "text/plain": [
       "DecisionTreeClassifier(ccp_alpha=0.0, class_weight=None, criterion='entropy',\n",
       "                       max_depth=5, max_features=None, max_leaf_nodes=None,\n",
       "                       min_impurity_decrease=0.0, min_impurity_split=None,\n",
       "                       min_samples_leaf=1, min_samples_split=2,\n",
       "                       min_weight_fraction_leaf=0.0, presort='deprecated',\n",
       "                       random_state=None, splitter='best')"
      ]
     },
     "execution_count": 116,
     "metadata": {
      "tags": []
     },
     "output_type": "execute_result"
    }
   ],
   "source": [
    "#training model using Decision tree\n",
    "from sklearn.tree import DecisionTreeClassifier\n",
    "dtree = DecisionTreeClassifier(max_depth=5,criterion='entropy')\n",
    "dtree.fit(x_train,y_train)"
   ]
  },
  {
   "cell_type": "code",
   "execution_count": 117,
   "metadata": {
    "colab": {
     "base_uri": "https://localhost:8080/"
    },
    "id": "C1CcpBGpPZW3",
    "outputId": "1e90db63-60cd-41a6-c3f5-e69fd7717027"
   },
   "outputs": [
    {
     "name": "stdout",
     "output_type": "stream",
     "text": [
      "Classification Report is:\n",
      "               precision    recall  f1-score   support\n",
      "\n",
      "           0       0.88      0.93      0.91        99\n",
      "           1       0.86      0.78      0.82        55\n",
      "\n",
      "    accuracy                           0.88       154\n",
      "   macro avg       0.87      0.86      0.86       154\n",
      "weighted avg       0.88      0.88      0.88       154\n",
      "\n",
      "Confusion Matrix:\n",
      " [[92  7]\n",
      " [12 43]]\n",
      "Training Score:\n",
      " 90.87947882736157\n"
     ]
    }
   ],
   "source": [
    "y_pred=dtree.predict(x_test)\n",
    "from sklearn.metrics import accuracy_score,classification_report,confusion_matrix\n",
    "print(\"Classification Report is:\\n\",classification_report(y_test,y_pred))\n",
    "print(\"Confusion Matrix:\\n\",confusion_matrix(y_test,y_pred))\n",
    "print(\"Training Score:\\n\",dtree.score(x_train,y_train)*100)"
   ]
  },
  {
   "cell_type": "code",
   "execution_count": 118,
   "metadata": {
    "colab": {
     "base_uri": "https://localhost:8080/"
    },
    "id": "dZgM4KZnPZW3",
    "outputId": "e9af2c2b-a3c4-4d8a-d3c0-958cbbea0cfb"
   },
   "outputs": [
    {
     "name": "stdout",
     "output_type": "stream",
     "text": [
      "87.66233766233766\n"
     ]
    }
   ],
   "source": [
    "#printing accuracy score\n",
    "print(accuracy_score(y_test,y_pred)*100)"
   ]
  },
  {
   "cell_type": "code",
   "execution_count": 119,
   "metadata": {
    "colab": {
     "base_uri": "https://localhost:8080/"
    },
    "id": "_QlCWOMSPZW3",
    "outputId": "aa23af54-c27b-44ec-e115-b086e60f0c9e"
   },
   "outputs": [
    {
     "data": {
      "text/plain": [
       "RandomForestClassifier(bootstrap=True, ccp_alpha=0.0, class_weight=None,\n",
       "                       criterion='gini', max_depth=None, max_features='auto',\n",
       "                       max_leaf_nodes=None, max_samples=None,\n",
       "                       min_impurity_decrease=0.0, min_impurity_split=None,\n",
       "                       min_samples_leaf=1, min_samples_split=2,\n",
       "                       min_weight_fraction_leaf=0.0, n_estimators=100,\n",
       "                       n_jobs=None, oob_score=False, random_state=None,\n",
       "                       verbose=0, warm_start=False)"
      ]
     },
     "execution_count": 119,
     "metadata": {
      "tags": []
     },
     "output_type": "execute_result"
    }
   ],
   "source": [
    "#training model using Random forest classifier\n",
    "from sklearn.ensemble import RandomForestClassifier\n",
    "rfc=RandomForestClassifier()\n",
    "rfc.fit(x_train,y_train)"
   ]
  },
  {
   "cell_type": "code",
   "execution_count": 120,
   "metadata": {
    "colab": {
     "base_uri": "https://localhost:8080/"
    },
    "id": "FOP2Z5Y7PZW4",
    "outputId": "3c180419-390d-4fd0-d171-92059325fe3d"
   },
   "outputs": [
    {
     "name": "stdout",
     "output_type": "stream",
     "text": [
      "Classification Report is:\n",
      "               precision    recall  f1-score   support\n",
      "\n",
      "           0       0.94      0.93      0.93        99\n",
      "           1       0.88      0.89      0.88        55\n",
      "\n",
      "    accuracy                           0.92       154\n",
      "   macro avg       0.91      0.91      0.91       154\n",
      "weighted avg       0.92      0.92      0.92       154\n",
      "\n",
      "Confusion Matrix:\n",
      " [[92  7]\n",
      " [ 6 49]]\n",
      "Training Score:\n",
      " 100.0\n"
     ]
    }
   ],
   "source": [
    "y_pred=rfc.predict(x_test)\n",
    "from sklearn.metrics import accuracy_score,classification_report,confusion_matrix\n",
    "print(\"Classification Report is:\\n\",classification_report(y_test,y_pred))\n",
    "print(\"Confusion Matrix:\\n\",confusion_matrix(y_test,y_pred))\n",
    "print(\"Training Score:\\n\",rfc.score(x_train,y_train)*100)"
   ]
  },
  {
   "cell_type": "code",
   "execution_count": 121,
   "metadata": {
    "colab": {
     "base_uri": "https://localhost:8080/"
    },
    "id": "EPNXWSEpPZW4",
    "outputId": "f76ff886-9c97-4769-c94f-28dcf1faed66"
   },
   "outputs": [
    {
     "name": "stdout",
     "output_type": "stream",
     "text": [
      "91.55844155844156\n"
     ]
    }
   ],
   "source": [
    "#printing accuracy score\n",
    "print(accuracy_score(y_test,y_pred)*100)"
   ]
  },
  {
   "cell_type": "code",
   "execution_count": 122,
   "metadata": {
    "id": "_AtuM3nQhWHB"
   },
   "outputs": [],
   "source": [
    "feature_scores = pd.Series(rfc.feature_importances_, index=x_train.columns).sort_values(ascending=False)\n",
    "xf,yf = [],[]\n",
    "xf.append(feature_scores.index)\n",
    "yf.append(feature_scores.values)"
   ]
  },
  {
   "cell_type": "code",
   "execution_count": 123,
   "metadata": {
    "colab": {
     "base_uri": "https://localhost:8080/",
     "height": 603
    },
    "id": "sOfcnVczi0M3",
    "outputId": "0e4db8ec-48f8-48d8-96f9-fc110fe9cf3d"
   },
   "outputs": [
    {
     "data": {
      "image/png": "[encoded data removed]",
      "text/plain": [
       "<Figure size 576x576 with 1 Axes>"
      ]
     },
     "metadata": {
      "tags": []
     },
     "output_type": "display_data"
    }
   ],
   "source": [
    "#feature importance plot for random forest\n",
    "xf = np.array(xf)\n",
    "yf = np.array(yf)\n",
    "fig = plt.figure(figsize = (8, 8))\n",
    "plt.bar(xf[0],yf[0],width= 1)\n",
    "plt.xticks(rotation=90)\n",
    "plt.show()"
   ]
  },
  {
   "cell_type": "code",
   "execution_count": 124,
   "metadata": {
    "id": "u4-bW_kKPZW5"
   },
   "outputs": [],
   "source": [
    "import pandas as pd\n",
    "from keras.models import Sequential\n",
    "from keras.layers import Dense\n",
    "from tensorflow.keras.layers import Dropout"
   ]
  },
  {
   "cell_type": "code",
   "execution_count": 191,
   "metadata": {
    "id": "UrN8tXzmQfNJ"
   },
   "outputs": [],
   "source": [
    "#making neural network\n",
    "model = Sequential()\n",
    "# 1st layer: input_dim=8, 16 nodes, RELU\n",
    "model.add(Dense(16, input_dim=8,activation='relu'))\n",
    "# 2nd layer: 8 nodes, RELU\n",
    "model.add(Dense(8, activation='relu'))\n",
    "# output layer: dim=1, activation sigmoid\n",
    "model.add(Dense(1, activation='sigmoid' ))"
   ]
  },
  {
   "cell_type": "code",
   "execution_count": 204,
   "metadata": {
    "colab": {
     "base_uri": "https://localhost:8080/"
    },
    "id": "-NbryRYtWXdf",
    "outputId": "2a593ccc-207d-42df-b639-8015509a0983"
   },
   "outputs": [
    {
     "name": "stdout",
     "output_type": "stream",
     "text": [
      "Model: \"sequential_2\"\n",
      "_________________________________________________________________\n",
      "Layer (type)                 Output Shape              Param #   \n",
      "=================================================================\n",
      "dense_6 (Dense)              (None, 16)                144       \n",
      "_________________________________________________________________\n",
      "dense_7 (Dense)              (None, 8)                 136       \n",
      "_________________________________________________________________\n",
      "dense_8 (Dense)              (None, 1)                 9         \n",
      "=================================================================\n",
      "Total params: 289\n",
      "Trainable params: 289\n",
      "Non-trainable params: 0\n",
      "_________________________________________________________________\n"
     ]
    }
   ],
   "source": [
    "model.summary()"
   ]
  },
  {
   "cell_type": "code",
   "execution_count": 193,
   "metadata": {
    "id": "Rdr70DXhQoZB"
   },
   "outputs": [],
   "source": [
    "from tensorflow.keras.optimizers import Adam\n",
    "adam = Adam(learning_rate=0.01)\n",
    "model.compile(loss='binary_crossentropy', optimizer=adam, metrics=['accuracy'])"
   ]
  },
  {
   "cell_type": "code",
   "execution_count": 194,
   "metadata": {
    "colab": {
     "base_uri": "https://localhost:8080/"
    },
    "id": "JrxcaS46Qr41",
    "outputId": "9a0c268c-56e9-431f-ce28-25b8fb63a25c"
   },
   "outputs": [
    {
     "name": "stdout",
     "output_type": "stream",
     "text": [
      "Epoch 1/150\n",
      "31/31 [==============================] - 1s 12ms/step - loss: 2.0585 - accuracy: 0.5381 - val_loss: 0.7412 - val_accuracy: 0.6585\n",
      "Epoch 2/150\n",
      "31/31 [==============================] - 0s 2ms/step - loss: 0.8787 - accuracy: 0.6630 - val_loss: 1.7996 - val_accuracy: 0.6260\n",
      "Epoch 3/150\n",
      "31/31 [==============================] - 0s 3ms/step - loss: 1.1601 - accuracy: 0.6448 - val_loss: 0.5919 - val_accuracy: 0.7480\n",
      "Epoch 4/150\n",
      "31/31 [==============================] - 0s 3ms/step - loss: 0.5622 - accuracy: 0.7264 - val_loss: 0.6340 - val_accuracy: 0.6911\n",
      "Epoch 5/150\n",
      "31/31 [==============================] - 0s 3ms/step - loss: 0.6787 - accuracy: 0.6841 - val_loss: 0.7760 - val_accuracy: 0.6341\n",
      "Epoch 6/150\n",
      "31/31 [==============================] - 0s 3ms/step - loss: 0.6613 - accuracy: 0.6450 - val_loss: 0.6346 - val_accuracy: 0.6992\n",
      "Epoch 7/150\n",
      "31/31 [==============================] - 0s 2ms/step - loss: 0.5428 - accuracy: 0.7446 - val_loss: 0.6564 - val_accuracy: 0.6748\n",
      "Epoch 8/150\n",
      "31/31 [==============================] - 0s 2ms/step - loss: 0.4846 - accuracy: 0.7670 - val_loss: 0.7460 - val_accuracy: 0.5854\n",
      "Epoch 9/150\n",
      "31/31 [==============================] - 0s 2ms/step - loss: 0.6721 - accuracy: 0.6650 - val_loss: 0.9655 - val_accuracy: 0.6098\n",
      "Epoch 10/150\n",
      "31/31 [==============================] - 0s 2ms/step - loss: 0.5928 - accuracy: 0.7370 - val_loss: 0.6308 - val_accuracy: 0.6829\n",
      "Epoch 11/150\n",
      "31/31 [==============================] - 0s 2ms/step - loss: 0.5534 - accuracy: 0.7302 - val_loss: 0.8635 - val_accuracy: 0.6341\n",
      "Epoch 12/150\n",
      "31/31 [==============================] - 0s 2ms/step - loss: 0.6336 - accuracy: 0.6576 - val_loss: 0.6068 - val_accuracy: 0.7154\n",
      "Epoch 13/150\n",
      "31/31 [==============================] - 0s 2ms/step - loss: 0.5564 - accuracy: 0.7395 - val_loss: 0.5369 - val_accuracy: 0.7561\n",
      "Epoch 14/150\n",
      "31/31 [==============================] - 0s 2ms/step - loss: 0.5002 - accuracy: 0.7711 - val_loss: 0.5308 - val_accuracy: 0.7642\n",
      "Epoch 15/150\n",
      "31/31 [==============================] - 0s 3ms/step - loss: 0.4963 - accuracy: 0.7890 - val_loss: 0.6218 - val_accuracy: 0.6829\n",
      "Epoch 16/150\n",
      "31/31 [==============================] - 0s 3ms/step - loss: 0.5510 - accuracy: 0.7838 - val_loss: 0.7953 - val_accuracy: 0.6667\n",
      "Epoch 17/150\n",
      "31/31 [==============================] - 0s 2ms/step - loss: 0.5547 - accuracy: 0.7498 - val_loss: 0.6042 - val_accuracy: 0.6911\n",
      "Epoch 18/150\n",
      "31/31 [==============================] - 0s 2ms/step - loss: 0.4809 - accuracy: 0.7831 - val_loss: 0.4983 - val_accuracy: 0.7967\n",
      "Epoch 19/150\n",
      "31/31 [==============================] - 0s 3ms/step - loss: 0.4663 - accuracy: 0.7808 - val_loss: 0.4925 - val_accuracy: 0.8049\n",
      "Epoch 20/150\n",
      "31/31 [==============================] - 0s 2ms/step - loss: 0.4522 - accuracy: 0.8067 - val_loss: 0.4884 - val_accuracy: 0.7967\n",
      "Epoch 21/150\n",
      "31/31 [==============================] - 0s 2ms/step - loss: 0.4766 - accuracy: 0.7803 - val_loss: 0.4904 - val_accuracy: 0.7967\n",
      "Epoch 22/150\n",
      "31/31 [==============================] - 0s 3ms/step - loss: 0.4325 - accuracy: 0.8144 - val_loss: 0.5138 - val_accuracy: 0.7642\n",
      "Epoch 23/150\n",
      "31/31 [==============================] - 0s 2ms/step - loss: 0.4599 - accuracy: 0.7826 - val_loss: 0.5079 - val_accuracy: 0.7724\n",
      "Epoch 24/150\n",
      "31/31 [==============================] - 0s 3ms/step - loss: 0.4402 - accuracy: 0.8071 - val_loss: 0.6221 - val_accuracy: 0.7561\n",
      "Epoch 25/150\n",
      "31/31 [==============================] - 0s 3ms/step - loss: 0.4604 - accuracy: 0.7897 - val_loss: 0.4792 - val_accuracy: 0.8211\n",
      "Epoch 26/150\n",
      "31/31 [==============================] - 0s 3ms/step - loss: 0.4346 - accuracy: 0.8337 - val_loss: 0.5142 - val_accuracy: 0.7805\n",
      "Epoch 27/150\n",
      "31/31 [==============================] - 0s 2ms/step - loss: 0.4294 - accuracy: 0.8024 - val_loss: 0.5125 - val_accuracy: 0.8049\n",
      "Epoch 28/150\n",
      "31/31 [==============================] - 0s 3ms/step - loss: 0.3957 - accuracy: 0.8266 - val_loss: 0.4848 - val_accuracy: 0.8293\n",
      "Epoch 29/150\n",
      "31/31 [==============================] - 0s 2ms/step - loss: 0.4640 - accuracy: 0.7727 - val_loss: 0.5324 - val_accuracy: 0.7561\n",
      "Epoch 30/150\n",
      "31/31 [==============================] - 0s 3ms/step - loss: 0.4039 - accuracy: 0.8283 - val_loss: 0.4735 - val_accuracy: 0.8293\n",
      "Epoch 31/150\n",
      "31/31 [==============================] - 0s 3ms/step - loss: 0.4234 - accuracy: 0.8265 - val_loss: 0.5347 - val_accuracy: 0.7398\n",
      "Epoch 32/150\n",
      "31/31 [==============================] - 0s 2ms/step - loss: 0.4340 - accuracy: 0.8398 - val_loss: 0.5108 - val_accuracy: 0.7805\n",
      "Epoch 33/150\n",
      "31/31 [==============================] - 0s 2ms/step - loss: 0.4532 - accuracy: 0.8048 - val_loss: 0.4783 - val_accuracy: 0.8130\n",
      "Epoch 34/150\n",
      "31/31 [==============================] - 0s 2ms/step - loss: 0.3971 - accuracy: 0.8384 - val_loss: 0.4578 - val_accuracy: 0.8211\n",
      "Epoch 35/150\n",
      "31/31 [==============================] - 0s 2ms/step - loss: 0.3752 - accuracy: 0.8331 - val_loss: 0.4726 - val_accuracy: 0.8211\n",
      "Epoch 36/150\n",
      "31/31 [==============================] - 0s 2ms/step - loss: 0.4099 - accuracy: 0.8219 - val_loss: 0.4793 - val_accuracy: 0.7724\n",
      "Epoch 37/150\n",
      "31/31 [==============================] - 0s 3ms/step - loss: 0.4300 - accuracy: 0.7931 - val_loss: 0.5111 - val_accuracy: 0.8049\n",
      "Epoch 38/150\n",
      "31/31 [==============================] - 0s 2ms/step - loss: 0.4002 - accuracy: 0.8453 - val_loss: 0.4595 - val_accuracy: 0.8293\n",
      "Epoch 39/150\n",
      "31/31 [==============================] - 0s 2ms/step - loss: 0.3910 - accuracy: 0.8385 - val_loss: 0.4729 - val_accuracy: 0.8211\n",
      "Epoch 40/150\n",
      "31/31 [==============================] - 0s 2ms/step - loss: 0.4366 - accuracy: 0.7803 - val_loss: 0.5474 - val_accuracy: 0.7724\n",
      "Epoch 41/150\n",
      "31/31 [==============================] - 0s 2ms/step - loss: 0.4345 - accuracy: 0.8227 - val_loss: 0.4878 - val_accuracy: 0.8293\n",
      "Epoch 42/150\n",
      "31/31 [==============================] - 0s 3ms/step - loss: 0.3781 - accuracy: 0.8538 - val_loss: 0.4683 - val_accuracy: 0.8049\n",
      "Epoch 43/150\n",
      "31/31 [==============================] - 0s 3ms/step - loss: 0.3811 - accuracy: 0.8423 - val_loss: 0.4738 - val_accuracy: 0.7967\n",
      "Epoch 44/150\n",
      "31/31 [==============================] - 0s 3ms/step - loss: 0.3814 - accuracy: 0.8585 - val_loss: 0.4677 - val_accuracy: 0.8049\n",
      "Epoch 45/150\n",
      "31/31 [==============================] - 0s 2ms/step - loss: 0.3838 - accuracy: 0.8521 - val_loss: 0.5117 - val_accuracy: 0.7967\n",
      "Epoch 46/150\n",
      "31/31 [==============================] - 0s 2ms/step - loss: 0.3721 - accuracy: 0.8643 - val_loss: 0.4643 - val_accuracy: 0.8130\n",
      "Epoch 47/150\n",
      "31/31 [==============================] - 0s 2ms/step - loss: 0.3600 - accuracy: 0.8635 - val_loss: 0.4951 - val_accuracy: 0.7724\n",
      "Epoch 48/150\n",
      "31/31 [==============================] - 0s 3ms/step - loss: 0.3672 - accuracy: 0.8610 - val_loss: 0.4646 - val_accuracy: 0.7886\n",
      "Epoch 49/150\n",
      "31/31 [==============================] - 0s 3ms/step - loss: 0.3888 - accuracy: 0.8518 - val_loss: 0.4672 - val_accuracy: 0.8211\n",
      "Epoch 50/150\n",
      "31/31 [==============================] - 0s 3ms/step - loss: 0.3803 - accuracy: 0.8435 - val_loss: 0.4829 - val_accuracy: 0.8293\n",
      "Epoch 51/150\n",
      "31/31 [==============================] - 0s 3ms/step - loss: 0.3928 - accuracy: 0.8414 - val_loss: 0.4459 - val_accuracy: 0.8130\n",
      "Epoch 52/150\n",
      "31/31 [==============================] - 0s 2ms/step - loss: 0.3710 - accuracy: 0.8566 - val_loss: 0.4912 - val_accuracy: 0.7967\n",
      "Epoch 53/150\n",
      "31/31 [==============================] - 0s 4ms/step - loss: 0.3803 - accuracy: 0.8563 - val_loss: 0.4573 - val_accuracy: 0.8130\n",
      "Epoch 54/150\n",
      "31/31 [==============================] - 0s 2ms/step - loss: 0.3698 - accuracy: 0.8568 - val_loss: 0.4898 - val_accuracy: 0.8211\n",
      "Epoch 55/150\n",
      "31/31 [==============================] - 0s 3ms/step - loss: 0.3932 - accuracy: 0.8519 - val_loss: 0.4345 - val_accuracy: 0.8211\n",
      "Epoch 56/150\n",
      "31/31 [==============================] - 0s 3ms/step - loss: 0.3845 - accuracy: 0.8286 - val_loss: 0.5539 - val_accuracy: 0.7805\n",
      "Epoch 57/150\n",
      "31/31 [==============================] - 0s 2ms/step - loss: 0.4084 - accuracy: 0.8387 - val_loss: 0.4637 - val_accuracy: 0.8130\n",
      "Epoch 58/150\n",
      "31/31 [==============================] - 0s 3ms/step - loss: 0.3932 - accuracy: 0.8297 - val_loss: 0.4313 - val_accuracy: 0.8130\n",
      "Epoch 59/150\n",
      "31/31 [==============================] - 0s 3ms/step - loss: 0.3847 - accuracy: 0.8370 - val_loss: 0.4767 - val_accuracy: 0.8211\n",
      "Epoch 60/150\n",
      "31/31 [==============================] - 0s 3ms/step - loss: 0.3841 - accuracy: 0.8551 - val_loss: 0.4403 - val_accuracy: 0.8293\n",
      "Epoch 61/150\n",
      "31/31 [==============================] - 0s 2ms/step - loss: 0.3655 - accuracy: 0.8560 - val_loss: 0.4168 - val_accuracy: 0.8293\n",
      "Epoch 62/150\n",
      "31/31 [==============================] - 0s 3ms/step - loss: 0.3754 - accuracy: 0.8593 - val_loss: 0.4680 - val_accuracy: 0.8211\n",
      "Epoch 63/150\n",
      "31/31 [==============================] - 0s 2ms/step - loss: 0.3787 - accuracy: 0.8447 - val_loss: 0.5234 - val_accuracy: 0.7805\n",
      "Epoch 64/150\n",
      "31/31 [==============================] - 0s 2ms/step - loss: 0.3813 - accuracy: 0.8519 - val_loss: 0.4638 - val_accuracy: 0.8455\n",
      "Epoch 65/150\n",
      "31/31 [==============================] - 0s 3ms/step - loss: 0.4077 - accuracy: 0.8373 - val_loss: 0.4462 - val_accuracy: 0.8211\n",
      "Epoch 66/150\n",
      "31/31 [==============================] - 0s 3ms/step - loss: 0.3781 - accuracy: 0.8491 - val_loss: 0.4367 - val_accuracy: 0.8211\n",
      "Epoch 67/150\n",
      "31/31 [==============================] - 0s 3ms/step - loss: 0.3696 - accuracy: 0.8412 - val_loss: 0.4592 - val_accuracy: 0.7886\n",
      "Epoch 68/150\n",
      "31/31 [==============================] - 0s 2ms/step - loss: 0.3925 - accuracy: 0.8559 - val_loss: 0.4250 - val_accuracy: 0.8293\n",
      "Epoch 69/150\n",
      "31/31 [==============================] - 0s 3ms/step - loss: 0.3820 - accuracy: 0.8334 - val_loss: 0.5171 - val_accuracy: 0.8130\n",
      "Epoch 70/150\n",
      "31/31 [==============================] - 0s 2ms/step - loss: 0.4022 - accuracy: 0.8376 - val_loss: 0.4471 - val_accuracy: 0.8130\n",
      "Epoch 71/150\n",
      "31/31 [==============================] - 0s 3ms/step - loss: 0.3503 - accuracy: 0.8529 - val_loss: 0.4685 - val_accuracy: 0.8293\n",
      "Epoch 72/150\n",
      "31/31 [==============================] - 0s 3ms/step - loss: 0.3872 - accuracy: 0.8403 - val_loss: 0.4286 - val_accuracy: 0.8130\n",
      "Epoch 73/150\n",
      "31/31 [==============================] - 0s 2ms/step - loss: 0.4048 - accuracy: 0.8399 - val_loss: 0.6016 - val_accuracy: 0.7642\n",
      "Epoch 74/150\n",
      "31/31 [==============================] - 0s 3ms/step - loss: 0.3857 - accuracy: 0.8378 - val_loss: 0.4355 - val_accuracy: 0.8293\n",
      "Epoch 75/150\n",
      "31/31 [==============================] - 0s 3ms/step - loss: 0.3778 - accuracy: 0.8326 - val_loss: 0.4666 - val_accuracy: 0.8130\n",
      "Epoch 76/150\n",
      "31/31 [==============================] - 0s 3ms/step - loss: 0.3809 - accuracy: 0.8386 - val_loss: 0.5140 - val_accuracy: 0.7724\n",
      "Epoch 77/150\n",
      "31/31 [==============================] - 0s 2ms/step - loss: 0.3785 - accuracy: 0.8293 - val_loss: 0.4499 - val_accuracy: 0.7886\n",
      "Epoch 78/150\n",
      "31/31 [==============================] - 0s 2ms/step - loss: 0.3492 - accuracy: 0.8664 - val_loss: 0.4802 - val_accuracy: 0.8211\n",
      "Epoch 79/150\n",
      "31/31 [==============================] - 0s 3ms/step - loss: 0.3433 - accuracy: 0.8735 - val_loss: 0.4530 - val_accuracy: 0.8293\n",
      "Epoch 80/150\n",
      "31/31 [==============================] - 0s 3ms/step - loss: 0.3677 - accuracy: 0.8112 - val_loss: 0.4630 - val_accuracy: 0.8293\n",
      "Epoch 81/150\n",
      "31/31 [==============================] - 0s 3ms/step - loss: 0.3542 - accuracy: 0.8690 - val_loss: 0.4667 - val_accuracy: 0.8211\n",
      "Epoch 82/150\n",
      "31/31 [==============================] - 0s 2ms/step - loss: 0.4289 - accuracy: 0.7841 - val_loss: 0.4679 - val_accuracy: 0.8130\n",
      "Epoch 83/150\n",
      "31/31 [==============================] - 0s 3ms/step - loss: 0.3385 - accuracy: 0.8631 - val_loss: 0.4495 - val_accuracy: 0.8211\n",
      "Epoch 84/150\n",
      "31/31 [==============================] - 0s 3ms/step - loss: 0.3611 - accuracy: 0.8556 - val_loss: 0.4944 - val_accuracy: 0.8049\n",
      "Epoch 85/150\n",
      "31/31 [==============================] - 0s 2ms/step - loss: 0.3538 - accuracy: 0.8637 - val_loss: 0.5049 - val_accuracy: 0.7886\n",
      "Epoch 86/150\n",
      "31/31 [==============================] - 0s 2ms/step - loss: 0.3848 - accuracy: 0.8278 - val_loss: 0.4366 - val_accuracy: 0.8130\n",
      "Epoch 87/150\n",
      "31/31 [==============================] - 0s 3ms/step - loss: 0.4006 - accuracy: 0.8471 - val_loss: 0.4353 - val_accuracy: 0.8211\n",
      "Epoch 88/150\n",
      "31/31 [==============================] - 0s 3ms/step - loss: 0.3633 - accuracy: 0.8559 - val_loss: 0.5757 - val_accuracy: 0.8049\n",
      "Epoch 89/150\n",
      "31/31 [==============================] - 0s 3ms/step - loss: 0.4347 - accuracy: 0.8300 - val_loss: 0.4752 - val_accuracy: 0.7967\n",
      "Epoch 90/150\n",
      "31/31 [==============================] - 0s 3ms/step - loss: 0.3350 - accuracy: 0.8735 - val_loss: 0.4691 - val_accuracy: 0.8130\n",
      "Epoch 91/150\n",
      "31/31 [==============================] - 0s 3ms/step - loss: 0.3726 - accuracy: 0.8378 - val_loss: 0.4856 - val_accuracy: 0.8211\n",
      "Epoch 92/150\n",
      "31/31 [==============================] - 0s 3ms/step - loss: 0.4456 - accuracy: 0.8122 - val_loss: 0.5853 - val_accuracy: 0.7805\n",
      "Epoch 93/150\n",
      "31/31 [==============================] - 0s 3ms/step - loss: 0.4466 - accuracy: 0.8301 - val_loss: 0.4750 - val_accuracy: 0.7886\n",
      "Epoch 94/150\n",
      "31/31 [==============================] - 0s 2ms/step - loss: 0.3493 - accuracy: 0.8718 - val_loss: 0.4498 - val_accuracy: 0.8374\n",
      "Epoch 95/150\n",
      "31/31 [==============================] - 0s 2ms/step - loss: 0.3606 - accuracy: 0.8587 - val_loss: 0.4763 - val_accuracy: 0.8130\n",
      "Epoch 96/150\n",
      "31/31 [==============================] - 0s 2ms/step - loss: 0.4049 - accuracy: 0.8287 - val_loss: 0.4898 - val_accuracy: 0.7967\n",
      "Epoch 97/150\n",
      "31/31 [==============================] - 0s 2ms/step - loss: 0.4069 - accuracy: 0.8457 - val_loss: 0.4892 - val_accuracy: 0.8211\n",
      "Epoch 98/150\n",
      "31/31 [==============================] - 0s 2ms/step - loss: 0.3853 - accuracy: 0.8405 - val_loss: 0.4639 - val_accuracy: 0.8130\n",
      "Epoch 99/150\n",
      "31/31 [==============================] - 0s 2ms/step - loss: 0.3415 - accuracy: 0.8553 - val_loss: 0.5222 - val_accuracy: 0.7886\n",
      "Epoch 100/150\n",
      "31/31 [==============================] - 0s 2ms/step - loss: 0.4004 - accuracy: 0.8239 - val_loss: 0.4737 - val_accuracy: 0.7967\n",
      "Epoch 101/150\n",
      "31/31 [==============================] - 0s 2ms/step - loss: 0.3696 - accuracy: 0.8403 - val_loss: 0.4424 - val_accuracy: 0.8049\n",
      "Epoch 102/150\n",
      "31/31 [==============================] - 0s 2ms/step - loss: 0.3395 - accuracy: 0.8606 - val_loss: 0.4633 - val_accuracy: 0.7805\n",
      "Epoch 103/150\n",
      "31/31 [==============================] - 0s 3ms/step - loss: 0.3329 - accuracy: 0.8866 - val_loss: 0.4961 - val_accuracy: 0.7886\n",
      "Epoch 104/150\n",
      "31/31 [==============================] - 0s 2ms/step - loss: 0.3502 - accuracy: 0.8391 - val_loss: 0.4953 - val_accuracy: 0.8130\n",
      "Epoch 105/150\n",
      "31/31 [==============================] - 0s 2ms/step - loss: 0.3438 - accuracy: 0.8737 - val_loss: 0.4884 - val_accuracy: 0.8049\n",
      "Epoch 106/150\n",
      "31/31 [==============================] - 0s 3ms/step - loss: 0.3325 - accuracy: 0.8737 - val_loss: 0.4958 - val_accuracy: 0.8130\n",
      "Epoch 107/150\n",
      "31/31 [==============================] - 0s 2ms/step - loss: 0.3055 - accuracy: 0.8825 - val_loss: 0.4589 - val_accuracy: 0.7967\n",
      "Epoch 108/150\n",
      "31/31 [==============================] - 0s 2ms/step - loss: 0.3403 - accuracy: 0.8615 - val_loss: 0.5455 - val_accuracy: 0.8211\n",
      "Epoch 109/150\n",
      "31/31 [==============================] - 0s 2ms/step - loss: 0.3567 - accuracy: 0.8691 - val_loss: 0.5009 - val_accuracy: 0.8211\n",
      "Epoch 110/150\n",
      "31/31 [==============================] - 0s 2ms/step - loss: 0.3286 - accuracy: 0.8746 - val_loss: 0.4353 - val_accuracy: 0.8049\n",
      "Epoch 111/150\n",
      "31/31 [==============================] - 0s 2ms/step - loss: 0.3504 - accuracy: 0.8589 - val_loss: 0.4609 - val_accuracy: 0.8130\n",
      "Epoch 112/150\n",
      "31/31 [==============================] - 0s 2ms/step - loss: 0.3753 - accuracy: 0.8544 - val_loss: 0.4493 - val_accuracy: 0.8293\n",
      "Epoch 113/150\n",
      "31/31 [==============================] - 0s 2ms/step - loss: 0.3730 - accuracy: 0.8467 - val_loss: 0.4637 - val_accuracy: 0.8374\n",
      "Epoch 114/150\n",
      "31/31 [==============================] - 0s 2ms/step - loss: 0.3541 - accuracy: 0.8669 - val_loss: 0.4681 - val_accuracy: 0.8374\n",
      "Epoch 115/150\n",
      "31/31 [==============================] - 0s 3ms/step - loss: 0.3480 - accuracy: 0.8778 - val_loss: 0.4459 - val_accuracy: 0.8374\n",
      "Epoch 116/150\n",
      "31/31 [==============================] - 0s 2ms/step - loss: 0.3365 - accuracy: 0.8642 - val_loss: 0.4829 - val_accuracy: 0.8130\n",
      "Epoch 117/150\n",
      "31/31 [==============================] - 0s 2ms/step - loss: 0.3130 - accuracy: 0.8730 - val_loss: 0.4651 - val_accuracy: 0.8374\n",
      "Epoch 118/150\n",
      "31/31 [==============================] - 0s 3ms/step - loss: 0.3002 - accuracy: 0.8666 - val_loss: 0.4423 - val_accuracy: 0.8293\n",
      "Epoch 119/150\n",
      "31/31 [==============================] - 0s 3ms/step - loss: 0.3118 - accuracy: 0.8828 - val_loss: 0.4719 - val_accuracy: 0.7967\n",
      "Epoch 120/150\n",
      "31/31 [==============================] - 0s 3ms/step - loss: 0.3252 - accuracy: 0.8709 - val_loss: 0.4857 - val_accuracy: 0.8211\n",
      "Epoch 121/150\n",
      "31/31 [==============================] - 0s 3ms/step - loss: 0.3578 - accuracy: 0.8555 - val_loss: 0.4989 - val_accuracy: 0.8049\n",
      "Epoch 122/150\n",
      "31/31 [==============================] - 0s 2ms/step - loss: 0.3500 - accuracy: 0.8583 - val_loss: 0.4730 - val_accuracy: 0.7886\n",
      "Epoch 123/150\n",
      "31/31 [==============================] - 0s 3ms/step - loss: 0.4525 - accuracy: 0.8125 - val_loss: 0.5072 - val_accuracy: 0.8049\n",
      "Epoch 124/150\n",
      "31/31 [==============================] - 0s 3ms/step - loss: 0.3818 - accuracy: 0.8592 - val_loss: 0.4546 - val_accuracy: 0.8130\n",
      "Epoch 125/150\n",
      "31/31 [==============================] - 0s 3ms/step - loss: 0.3513 - accuracy: 0.8444 - val_loss: 0.4660 - val_accuracy: 0.8049\n",
      "Epoch 126/150\n",
      "31/31 [==============================] - 0s 3ms/step - loss: 0.3438 - accuracy: 0.8603 - val_loss: 0.4365 - val_accuracy: 0.8130\n",
      "Epoch 127/150\n",
      "31/31 [==============================] - 0s 2ms/step - loss: 0.3130 - accuracy: 0.8865 - val_loss: 0.5220 - val_accuracy: 0.8130\n",
      "Epoch 128/150\n",
      "31/31 [==============================] - 0s 2ms/step - loss: 0.3444 - accuracy: 0.8493 - val_loss: 0.4739 - val_accuracy: 0.8130\n",
      "Epoch 129/150\n",
      "31/31 [==============================] - 0s 2ms/step - loss: 0.3382 - accuracy: 0.8796 - val_loss: 0.4755 - val_accuracy: 0.8049\n",
      "Epoch 130/150\n",
      "31/31 [==============================] - 0s 3ms/step - loss: 0.3436 - accuracy: 0.8474 - val_loss: 0.5106 - val_accuracy: 0.7967\n",
      "Epoch 131/150\n",
      "31/31 [==============================] - 0s 3ms/step - loss: 0.3961 - accuracy: 0.8194 - val_loss: 0.4629 - val_accuracy: 0.8211\n",
      "Epoch 132/150\n",
      "31/31 [==============================] - 0s 2ms/step - loss: 0.3634 - accuracy: 0.8559 - val_loss: 0.4444 - val_accuracy: 0.8293\n",
      "Epoch 133/150\n",
      "31/31 [==============================] - 0s 3ms/step - loss: 0.3307 - accuracy: 0.8626 - val_loss: 0.5299 - val_accuracy: 0.7724\n",
      "Epoch 134/150\n",
      "31/31 [==============================] - 0s 2ms/step - loss: 0.3873 - accuracy: 0.8521 - val_loss: 0.4796 - val_accuracy: 0.8211\n",
      "Epoch 135/150\n",
      "31/31 [==============================] - 0s 2ms/step - loss: 0.3284 - accuracy: 0.8666 - val_loss: 0.4605 - val_accuracy: 0.8130\n",
      "Epoch 136/150\n",
      "31/31 [==============================] - 0s 3ms/step - loss: 0.3465 - accuracy: 0.8573 - val_loss: 0.4855 - val_accuracy: 0.7642\n",
      "Epoch 137/150\n",
      "31/31 [==============================] - 0s 2ms/step - loss: 0.3502 - accuracy: 0.8591 - val_loss: 0.4608 - val_accuracy: 0.8211\n",
      "Epoch 138/150\n",
      "31/31 [==============================] - 0s 2ms/step - loss: 0.3187 - accuracy: 0.8731 - val_loss: 0.4753 - val_accuracy: 0.8049\n",
      "Epoch 139/150\n",
      "31/31 [==============================] - 0s 3ms/step - loss: 0.3577 - accuracy: 0.8369 - val_loss: 0.4609 - val_accuracy: 0.8211\n",
      "Epoch 140/150\n",
      "31/31 [==============================] - 0s 3ms/step - loss: 0.3977 - accuracy: 0.8022 - val_loss: 0.4842 - val_accuracy: 0.7724\n",
      "Epoch 141/150\n",
      "31/31 [==============================] - 0s 3ms/step - loss: 0.3486 - accuracy: 0.8662 - val_loss: 0.4389 - val_accuracy: 0.8049\n",
      "Epoch 142/150\n",
      "31/31 [==============================] - 0s 3ms/step - loss: 0.3828 - accuracy: 0.8292 - val_loss: 0.4911 - val_accuracy: 0.8049\n",
      "Epoch 143/150\n",
      "31/31 [==============================] - 0s 2ms/step - loss: 0.3119 - accuracy: 0.8812 - val_loss: 0.4469 - val_accuracy: 0.8211\n",
      "Epoch 144/150\n",
      "31/31 [==============================] - 0s 2ms/step - loss: 0.3355 - accuracy: 0.8848 - val_loss: 0.4571 - val_accuracy: 0.8293\n",
      "Epoch 145/150\n",
      "31/31 [==============================] - 0s 2ms/step - loss: 0.3400 - accuracy: 0.8799 - val_loss: 0.4912 - val_accuracy: 0.8374\n",
      "Epoch 146/150\n",
      "31/31 [==============================] - 0s 3ms/step - loss: 0.3604 - accuracy: 0.8355 - val_loss: 0.4556 - val_accuracy: 0.8537\n",
      "Epoch 147/150\n",
      "31/31 [==============================] - 0s 2ms/step - loss: 0.3479 - accuracy: 0.8496 - val_loss: 0.4650 - val_accuracy: 0.7967\n",
      "Epoch 148/150\n",
      "31/31 [==============================] - 0s 2ms/step - loss: 0.3189 - accuracy: 0.8594 - val_loss: 0.4795 - val_accuracy: 0.8049\n",
      "Epoch 149/150\n",
      "31/31 [==============================] - 0s 3ms/step - loss: 0.3920 - accuracy: 0.8253 - val_loss: 0.4348 - val_accuracy: 0.8130\n",
      "Epoch 150/150\n",
      "31/31 [==============================] - 0s 3ms/step - loss: 0.3173 - accuracy: 0.8803 - val_loss: 0.4753 - val_accuracy: 0.8049\n"
     ]
    }
   ],
   "source": [
    "# Fit the model on the training dataset\n",
    "history = model.fit( x_train, y_train, epochs=150,batch_size=16, validation_split=0.20)"
   ]
  },
  {
   "cell_type": "code",
   "execution_count": 195,
   "metadata": {
    "colab": {
     "base_uri": "https://localhost:8080/"
    },
    "id": "8yTNhuZXQ6KC",
    "outputId": "7870545e-9411-4abd-b2a0-9774cab9992e"
   },
   "outputs": [
    {
     "name": "stdout",
     "output_type": "stream",
     "text": [
      "5/5 [==============================] - 0s 3ms/step - loss: 0.4119 - accuracy: 0.8571\n",
      "\n",
      "Test Accuracy     : 0.8571428656578064\n"
     ]
    }
   ],
   "source": [
    "accuracy_test = model.evaluate(x_test, y_test)\n",
    "print(\"\")\n",
    "print(\"Test Accuracy     : \" + str(accuracy_test[1]))"
   ]
  },
  {
   "cell_type": "code",
   "execution_count": 196,
   "metadata": {
    "colab": {
     "base_uri": "https://localhost:8080/",
     "height": 295
    },
    "id": "8QvWTyh3tnPr",
    "outputId": "a6d1ab8d-5c10-4aaa-a133-1a0a4b66fa85"
   },
   "outputs": [
    {
     "data": {
      "image/png": "[encoded data removed]",
      "text/plain": [
       "<Figure size 432x288 with 1 Axes>"
      ]
     },
     "metadata": {
      "tags": []
     },
     "output_type": "display_data"
    }
   ],
   "source": [
    "# Model accuracy\n",
    "plt.plot(history.history['accuracy'])\n",
    "plt.plot(history.history['val_accuracy'])\n",
    "plt.title('Model Accuracy')\n",
    "plt.ylabel('accuracy')\n",
    "plt.xlabel('epoch')\n",
    "plt.legend(['train', 'test'])\n",
    "plt.show()"
   ]
  },
  {
   "cell_type": "code",
   "execution_count": 197,
   "metadata": {
    "colab": {
     "base_uri": "https://localhost:8080/",
     "height": 295
    },
    "id": "1SqScAnSt57u",
    "outputId": "d4c0974f-a146-4e4c-e35d-17315b6e066a"
   },
   "outputs": [
    {
     "data": {
      "image/png": "[encoded data removed]",
      "text/plain": [
       "<Figure size 432x288 with 1 Axes>"
      ]
     },
     "metadata": {
      "tags": []
     },
     "output_type": "display_data"
    }
   ],
   "source": [
    "# Model Loss\n",
    "plt.plot(history.history['loss'])\n",
    "plt.plot(history.history['val_loss'])\n",
    "plt.title('Model Loss')\n",
    "plt.ylabel('loss')\n",
    "plt.xlabel('epoch')\n",
    "plt.legend(['train', 'test'])\n",
    "plt.show()"
   ]
  },
  {
   "cell_type": "code",
   "execution_count": 198,
   "metadata": {
    "colab": {
     "base_uri": "https://localhost:8080/"
    },
    "id": "Tge72BHVRDdS",
    "outputId": "2305ee2c-cca7-490d-b455-54ac7f397f0b"
   },
   "outputs": [
    {
     "name": "stderr",
     "output_type": "stream",
     "text": [
      "/usr/local/lib/python3.7/dist-packages/keras/engine/sequential.py:450: UserWarning: `model.predict_classes()` is deprecated and will be removed after 2021-01-01. Please use instead:* `np.argmax(model.predict(x), axis=-1)`,   if your model does multi-class classification   (e.g. if it uses a `softmax` last-layer activation).* `(model.predict(x) > 0.5).astype(\"int32\")`,   if your model does binary classification   (e.g. if it uses a `sigmoid` last-layer activation).\n",
      "  warnings.warn('`model.predict_classes()` is deprecated and '\n"
     ]
    }
   ],
   "source": [
    "y_predict = model.predict_classes(x_test)\n",
    "y_pred_prob = model.predict(x_test)"
   ]
  },
  {
   "cell_type": "code",
   "execution_count": 199,
   "metadata": {
    "id": "Idhn7P13RLdq"
   },
   "outputs": [],
   "source": [
    "from sklearn.metrics import confusion_matrix"
   ]
  },
  {
   "cell_type": "code",
   "execution_count": 200,
   "metadata": {
    "colab": {
     "base_uri": "https://localhost:8080/",
     "height": 598
    },
    "id": "yWZ80RHnRgzJ",
    "outputId": "88b21120-a2f3-4abf-cdb4-6c5bec5260cb"
   },
   "outputs": [
    {
     "data": {
      "text/plain": [
       "Text(0.5, 1.0, 'Confusion Matrix')"
      ]
     },
     "execution_count": 200,
     "metadata": {
      "tags": []
     },
     "output_type": "execute_result"
    },
    {
     "data": {
      "image/png": "[encoded data removed]",
      "text/plain": [
       "<Figure size 1152x648 with 2 Axes>"
      ]
     },
     "metadata": {
      "tags": []
     },
     "output_type": "display_data"
    }
   ],
   "source": [
    "#displaying confusion matrix for our neural network model\n",
    "matrix = confusion_matrix(y_test,y_predict)\n",
    "plt.figure(figsize=(16, 9))\n",
    "ax= plt.subplot()\n",
    "sns.heatmap(matrix, annot=True, ax = ax)\n",
    "\n",
    "# labels, title and ticks\n",
    "ax.set_xlabel('Predicted Labels', size=20)\n",
    "ax.set_ylabel('True Labels', size=20)\n",
    "ax.set_title('Confusion Matrix', size=20) "
   ]
  },
  {
   "cell_type": "code",
   "execution_count": 201,
   "metadata": {
    "colab": {
     "base_uri": "https://localhost:8080/"
    },
    "id": "BWVE5_rxTTUz",
    "outputId": "30504b70-008c-444c-a012-121215f3cf59"
   },
   "outputs": [
    {
     "name": "stdout",
     "output_type": "stream",
     "text": [
      "True Negatives:  90\n",
      "False Positives:  9\n",
      "False Negatives:  13\n",
      "True Positives:  42\n"
     ]
    }
   ],
   "source": [
    "tn, fp, fn, tp = confusion_matrix(y_test, y_predict).ravel()\n",
    "print(\"True Negatives: \",tn)\n",
    "print(\"False Positives: \",fp)\n",
    "print(\"False Negatives: \",fn)\n",
    "print(\"True Positives: \",tp)"
   ]
  },
  {
   "cell_type": "code",
   "execution_count": 202,
   "metadata": {
    "id": "o7-7AU4IUiXe"
   },
   "outputs": [],
   "source": [
    "from sklearn.metrics import accuracy_score, confusion_matrix, precision_score, recall_score"
   ]
  },
  {
   "cell_type": "code",
   "execution_count": 203,
   "metadata": {
    "colab": {
     "base_uri": "https://localhost:8080/"
    },
    "id": "haSxHYYtUMNX",
    "outputId": "184ae4ad-3494-45b0-d210-7779ec6ec3f9"
   },
   "outputs": [
    {
     "name": "stdout",
     "output_type": "stream",
     "text": [
      "Accuracy on testing set: 0.8571428571428571\n",
      "Precision on testing set: 0.8235294117647058\n",
      "Recall on testing set: 0.7636363636363637\n"
     ]
    }
   ],
   "source": [
    "print('Accuracy on testing set:', accuracy_score(y_test, y_predict))\n",
    "print('Precision on testing set:', precision_score(y_test, y_predict))\n",
    "print('Recall on testing set:', recall_score(y_test, y_predict))"
   ]
  }
 ],
 "metadata": {
  "colab": {
   "collapsed_sections": [],
   "name": "Diabetes prediction pima inidan dataset final exposys internship.ipynb",
   "provenance": []
  },
  "kernelspec": {
   "display_name": "Python 3",
   "language": "python",
   "name": "python3"
  },
  "language_info": {
   "codemirror_mode": {
    "name": "ipython",
    "version": 3
   },
   "file_extension": ".py",
   "mimetype": "text/x-python",
   "name": "python",
   "nbconvert_exporter": "python",
   "pygments_lexer": "ipython3",
   "version": "3.7.4"
  }
 },
 "nbformat": 4,
 "nbformat_minor": 1
}
